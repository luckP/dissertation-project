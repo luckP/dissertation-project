{
 "cells": [
  {
   "cell_type": "code",
   "execution_count": 1,
   "metadata": {},
   "outputs": [
    {
     "name": "stdout",
     "output_type": "stream",
     "text": [
      "lo0: flags=8049<UP,LOOPBACK,RUNNING,MULTICAST> mtu 16384\r\n",
      "\toptions=1203<RXCSUM,TXCSUM,TXSTATUS,SW_TIMESTAMP>\r\n",
      "\tinet 127.0.0.1 netmask 0xff000000 \r\n",
      "\tinet6 ::1 prefixlen 128 \r\n",
      "\tinet6 fe80::1%lo0 prefixlen 64 scopeid 0x1 \r\n",
      "\tnd6 options=201<PERFORMNUD,DAD>\r\n",
      "gif0: flags=8010<POINTOPOINT,MULTICAST> mtu 1280\r\n",
      "stf0: flags=0<> mtu 1280\r\n",
      "en1: flags=8863<UP,BROADCAST,SMART,RUNNING,SIMPLEX,MULTICAST> mtu 1500\r\n",
      "\toptions=400<CHANNEL_IO>\r\n",
      "\tether 28:cf:e9:5f:29:a5 \r\n",
      "\tinet6 fe80::808:90e2:d53d:ae2b%en1 prefixlen 64 secured scopeid 0x4 \r\n",
      "\tinet6 2001:818:de0b:c100:c1d:21bb:2e0b:32b0 prefixlen 64 autoconf secured \r\n",
      "\tinet6 2001:818:de0b:c100:304a:97ee:a0cb:45c7 prefixlen 64 autoconf temporary \r\n",
      "\tinet 192.168.1.65 netmask 0xffffff00 broadcast 192.168.1.255\r\n",
      "\tnd6 options=201<PERFORMNUD,DAD>\r\n",
      "\tmedia: autoselect\r\n",
      "\tstatus: active\r\n",
      "en0: flags=8863<UP,BROADCAST,SMART,RUNNING,SIMPLEX,MULTICAST> mtu 1500\r\n",
      "\toptions=50b<RXCSUM,TXCSUM,VLAN_HWTAGGING,AV,CHANNEL_IO>\r\n",
      "\tether 10:dd:b1:c2:26:70 \r\n",
      "\tnd6 options=201<PERFORMNUD,DAD>\r\n",
      "\tmedia: autoselect (none)\r\n",
      "\tstatus: inactive\r\n",
      "en2: flags=8963<UP,BROADCAST,SMART,RUNNING,PROMISC,SIMPLEX,MULTICAST> mtu 1500\r\n",
      "\toptions=460<TSO4,TSO6,CHANNEL_IO>\r\n",
      "\tether 82:0a:4b:13:bc:80 \r\n",
      "\tmedia: autoselect <full-duplex>\r\n",
      "\tstatus: inactive\r\n",
      "fw0: flags=8863<UP,BROADCAST,SMART,RUNNING,SIMPLEX,MULTICAST> mtu 4078\r\n",
      "\tlladdr 44:fb:42:ff:fe:2c:4e:f2 \r\n",
      "\tnd6 options=201<PERFORMNUD,DAD>\r\n",
      "\tmedia: autoselect <full-duplex>\r\n",
      "\tstatus: inactive\r\n",
      "bridge0: flags=8863<UP,BROADCAST,SMART,RUNNING,SIMPLEX,MULTICAST> mtu 1500\r\n",
      "\toptions=63<RXCSUM,TXCSUM,TSO4,TSO6>\r\n",
      "\tether 82:0a:4b:13:bc:80 \r\n",
      "\tConfiguration:\r\n",
      "\t\tid 0:0:0:0:0:0 priority 0 hellotime 0 fwddelay 0\r\n",
      "\t\tmaxage 0 holdcnt 0 proto stp maxaddr 100 timeout 1200\r\n",
      "\t\troot id 0:0:0:0:0:0 priority 0 ifcost 0 port 0\r\n",
      "\t\tipfilter disabled flags 0x0\r\n",
      "\tmember: en2 flags=3<LEARNING,DISCOVER>\r\n",
      "\t        ifmaxaddr 0 port 6 priority 0 path cost 0\r\n",
      "\tnd6 options=201<PERFORMNUD,DAD>\r\n",
      "\tmedia: <unknown type>\r\n",
      "\tstatus: inactive\r\n",
      "p2p0: flags=8843<UP,BROADCAST,RUNNING,SIMPLEX,MULTICAST> mtu 2304\r\n",
      "\toptions=400<CHANNEL_IO>\r\n",
      "\tether 0a:cf:e9:5f:29:a5 \r\n",
      "\tmedia: autoselect\r\n",
      "\tstatus: inactive\r\n",
      "awdl0: flags=8943<UP,BROADCAST,RUNNING,PROMISC,SIMPLEX,MULTICAST> mtu 1484\r\n",
      "\toptions=400<CHANNEL_IO>\r\n",
      "\tether 2a:7f:5e:ec:82:ea \r\n",
      "\tinet6 fe80::287f:5eff:feec:82ea%awdl0 prefixlen 64 scopeid 0xa \r\n",
      "\tnd6 options=201<PERFORMNUD,DAD>\r\n",
      "\tmedia: autoselect\r\n",
      "\tstatus: active\r\n",
      "utun0: flags=8051<UP,POINTOPOINT,RUNNING,MULTICAST> mtu 1380\r\n",
      "\tinet6 fe80::8079:f744:7ea3:5420%utun0 prefixlen 64 scopeid 0xb \r\n",
      "\tnd6 options=201<PERFORMNUD,DAD>\r\n",
      "utun1: flags=8051<UP,POINTOPOINT,RUNNING,MULTICAST> mtu 2000\r\n",
      "\tinet6 fe80::f431:a569:692c:4fa4%utun1 prefixlen 64 scopeid 0xc \r\n",
      "\tnd6 options=201<PERFORMNUD,DAD>\r\n",
      "utun2: flags=8051<UP,POINTOPOINT,RUNNING,MULTICAST> mtu 1380\r\n",
      "\tinet6 fe80::bb44:2298:f951:54af%utun2 prefixlen 64 scopeid 0xe \r\n",
      "\tnd6 options=201<PERFORMNUD,DAD>\r\n",
      "utun3: flags=8051<UP,POINTOPOINT,RUNNING,MULTICAST> mtu 1380\r\n",
      "\tinet6 fe80::b519:e9e9:33d9:630d%utun3 prefixlen 64 scopeid 0xf \r\n",
      "\tnd6 options=201<PERFORMNUD,DAD>\r\n"
     ]
    }
   ],
   "source": [
    "!ifconfig"
   ]
  },
  {
   "cell_type": "code",
   "execution_count": null,
   "metadata": {},
   "outputs": [],
   "source": []
  }
 ],
 "metadata": {
  "kernelspec": {
   "display_name": "Python 3",
   "language": "python",
   "name": "python3"
  },
  "language_info": {
   "codemirror_mode": {
    "name": "ipython",
    "version": 3
   },
   "file_extension": ".py",
   "mimetype": "text/x-python",
   "name": "python",
   "nbconvert_exporter": "python",
   "pygments_lexer": "ipython3",
   "version": "3.7.4"
  },
  "toc": {
   "base_numbering": 1,
   "nav_menu": {},
   "number_sections": true,
   "sideBar": true,
   "skip_h1_title": false,
   "title_cell": "Table of Contents",
   "title_sidebar": "Contents",
   "toc_cell": false,
   "toc_position": {},
   "toc_section_display": true,
   "toc_window_display": false
  }
 },
 "nbformat": 4,
 "nbformat_minor": 4
}
