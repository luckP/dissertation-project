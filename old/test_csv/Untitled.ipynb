{
 "cells": [
  {
   "cell_type": "code",
   "execution_count": 1,
   "metadata": {},
   "outputs": [],
   "source": [
    "import pandas as pd"
   ]
  },
  {
   "cell_type": "code",
   "execution_count": 4,
   "metadata": {},
   "outputs": [],
   "source": [
    "names = ['request_id', 'cli', 'fleet_id', 'taxi', 'time', 'dispatch_date', 'schedule_date', 'event', 'taxiFlags']\n",
    "df = pd.read_csv('luc_csv.csv', names=names)"
   ]
  },
  {
   "cell_type": "code",
   "execution_count": 15,
   "metadata": {},
   "outputs": [],
   "source": [
    "df['time'] = df['time'].str.strip()"
   ]
  },
  {
   "cell_type": "code",
   "execution_count": 20,
   "metadata": {},
   "outputs": [],
   "source": [
    "df[df['time'] == 'None']\n",
    "df = df[df['time'] != 'None']"
   ]
  },
  {
   "cell_type": "code",
   "execution_count": 23,
   "metadata": {},
   "outputs": [
    {
     "name": "stderr",
     "output_type": "stream",
     "text": [
      "/Users/lucparada/miniconda3/lib/python3.7/site-packages/ipykernel_launcher.py:1: SettingWithCopyWarning: \n",
      "A value is trying to be set on a copy of a slice from a DataFrame.\n",
      "Try using .loc[row_indexer,col_indexer] = value instead\n",
      "\n",
      "See the caveats in the documentation: https://pandas.pydata.org/pandas-docs/stable/user_guide/indexing.html#returning-a-view-versus-a-copy\n",
      "  \"\"\"Entry point for launching an IPython kernel.\n",
      "/Users/lucparada/miniconda3/lib/python3.7/site-packages/ipykernel_launcher.py:2: SettingWithCopyWarning: \n",
      "A value is trying to be set on a copy of a slice from a DataFrame.\n",
      "Try using .loc[row_indexer,col_indexer] = value instead\n",
      "\n",
      "See the caveats in the documentation: https://pandas.pydata.org/pandas-docs/stable/user_guide/indexing.html#returning-a-view-versus-a-copy\n",
      "  \n"
     ]
    }
   ],
   "source": [
    "df['time_2'] = df['time'].astype(float)\n",
    "df['time_2'] = df['time_2'].astype(int)"
   ]
  },
  {
   "cell_type": "code",
   "execution_count": 24,
   "metadata": {},
   "outputs": [
    {
     "data": {
      "text/html": [
       "<div>\n",
       "<style scoped>\n",
       "    .dataframe tbody tr th:only-of-type {\n",
       "        vertical-align: middle;\n",
       "    }\n",
       "\n",
       "    .dataframe tbody tr th {\n",
       "        vertical-align: top;\n",
       "    }\n",
       "\n",
       "    .dataframe thead th {\n",
       "        text-align: right;\n",
       "    }\n",
       "</style>\n",
       "<table border=\"1\" class=\"dataframe\">\n",
       "  <thead>\n",
       "    <tr style=\"text-align: right;\">\n",
       "      <th></th>\n",
       "      <th>request_id</th>\n",
       "      <th>cli</th>\n",
       "      <th>fleet_id</th>\n",
       "      <th>taxi</th>\n",
       "      <th>time</th>\n",
       "      <th>dispatch_date</th>\n",
       "      <th>schedule_date</th>\n",
       "      <th>event</th>\n",
       "      <th>taxiFlags</th>\n",
       "      <th>time_2</th>\n",
       "    </tr>\n",
       "  </thead>\n",
       "  <tbody>\n",
       "    <tr>\n",
       "      <th>0</th>\n",
       "      <td>6213339L</td>\n",
       "      <td>'917665187'</td>\n",
       "      <td>0L</td>\n",
       "      <td>187L</td>\n",
       "      <td>1577875920.04847</td>\n",
       "      <td>1.577876e+09</td>\n",
       "      <td>1.577876e+09</td>\n",
       "      <td>'a'</td>\n",
       "      <td>0L</td>\n",
       "      <td>1577875920</td>\n",
       "    </tr>\n",
       "    <tr>\n",
       "      <th>1</th>\n",
       "      <td>6213339L</td>\n",
       "      <td>'917665187'</td>\n",
       "      <td>0L</td>\n",
       "      <td>187L</td>\n",
       "      <td>1577875926.11388</td>\n",
       "      <td>1.577876e+09</td>\n",
       "      <td>1.577876e+09</td>\n",
       "      <td>'A'</td>\n",
       "      <td>0L</td>\n",
       "      <td>1577875926</td>\n",
       "    </tr>\n",
       "    <tr>\n",
       "      <th>2</th>\n",
       "      <td>6213339L</td>\n",
       "      <td>'917665187'</td>\n",
       "      <td>0L</td>\n",
       "      <td>950L</td>\n",
       "      <td>1577875920.03415</td>\n",
       "      <td>1.577876e+09</td>\n",
       "      <td>1.577876e+09</td>\n",
       "      <td>'c'</td>\n",
       "      <td>0L</td>\n",
       "      <td>1577875920</td>\n",
       "    </tr>\n",
       "    <tr>\n",
       "      <th>3</th>\n",
       "      <td>6213339L</td>\n",
       "      <td>'917665187'</td>\n",
       "      <td>0L</td>\n",
       "      <td>187L</td>\n",
       "      <td>1577876426.69929</td>\n",
       "      <td>1.577876e+09</td>\n",
       "      <td>1.577876e+09</td>\n",
       "      <td>'p'</td>\n",
       "      <td>0L</td>\n",
       "      <td>1577876426</td>\n",
       "    </tr>\n",
       "    <tr>\n",
       "      <th>4</th>\n",
       "      <td>6213339L</td>\n",
       "      <td>'917665187'</td>\n",
       "      <td>0L</td>\n",
       "      <td>187L</td>\n",
       "      <td>1577877792.16427</td>\n",
       "      <td>1.577876e+09</td>\n",
       "      <td>1.577876e+09</td>\n",
       "      <td>'q'</td>\n",
       "      <td>0L</td>\n",
       "      <td>1577877792</td>\n",
       "    </tr>\n",
       "  </tbody>\n",
       "</table>\n",
       "</div>"
      ],
      "text/plain": [
       "  request_id           cli fleet_id   taxi              time  dispatch_date  \\\n",
       "0   6213339L   '917665187'       0L   187L  1577875920.04847   1.577876e+09   \n",
       "1   6213339L   '917665187'       0L   187L  1577875926.11388   1.577876e+09   \n",
       "2   6213339L   '917665187'       0L   950L  1577875920.03415   1.577876e+09   \n",
       "3   6213339L   '917665187'       0L   187L  1577876426.69929   1.577876e+09   \n",
       "4   6213339L   '917665187'       0L   187L  1577877792.16427   1.577876e+09   \n",
       "\n",
       "   schedule_date event taxiFlags      time_2  \n",
       "0   1.577876e+09   'a'        0L  1577875920  \n",
       "1   1.577876e+09   'A'        0L  1577875926  \n",
       "2   1.577876e+09   'c'        0L  1577875920  \n",
       "3   1.577876e+09   'p'        0L  1577876426  \n",
       "4   1.577876e+09   'q'        0L  1577877792  "
      ]
     },
     "execution_count": 24,
     "metadata": {},
     "output_type": "execute_result"
    }
   ],
   "source": [
    "df.head()"
   ]
  },
  {
   "cell_type": "code",
   "execution_count": 28,
   "metadata": {},
   "outputs": [
    {
     "data": {
      "text/html": [
       "<div>\n",
       "<style scoped>\n",
       "    .dataframe tbody tr th:only-of-type {\n",
       "        vertical-align: middle;\n",
       "    }\n",
       "\n",
       "    .dataframe tbody tr th {\n",
       "        vertical-align: top;\n",
       "    }\n",
       "\n",
       "    .dataframe thead th {\n",
       "        text-align: right;\n",
       "    }\n",
       "</style>\n",
       "<table border=\"1\" class=\"dataframe\">\n",
       "  <thead>\n",
       "    <tr style=\"text-align: right;\">\n",
       "      <th></th>\n",
       "      <th>request_id</th>\n",
       "      <th>cli</th>\n",
       "      <th>fleet_id</th>\n",
       "      <th>taxi</th>\n",
       "      <th>time</th>\n",
       "      <th>dispatch_date</th>\n",
       "      <th>schedule_date</th>\n",
       "      <th>event</th>\n",
       "      <th>taxiFlags</th>\n",
       "      <th>time_2</th>\n",
       "    </tr>\n",
       "  </thead>\n",
       "  <tbody>\n",
       "  </tbody>\n",
       "</table>\n",
       "</div>"
      ],
      "text/plain": [
       "Empty DataFrame\n",
       "Columns: [request_id, cli, fleet_id, taxi, time, dispatch_date, schedule_date, event, taxiFlags, time_2]\n",
       "Index: []"
      ]
     },
     "execution_count": 28,
     "metadata": {},
     "output_type": "execute_result"
    }
   ],
   "source": [
    "df[df['time_2'] == 1577837216]"
   ]
  },
  {
   "cell_type": "code",
   "execution_count": null,
   "metadata": {},
   "outputs": [],
   "source": []
  }
 ],
 "metadata": {
  "kernelspec": {
   "display_name": "Python 3",
   "language": "python",
   "name": "python3"
  },
  "language_info": {
   "codemirror_mode": {
    "name": "ipython",
    "version": 3
   },
   "file_extension": ".py",
   "mimetype": "text/x-python",
   "name": "python",
   "nbconvert_exporter": "python",
   "pygments_lexer": "ipython3",
   "version": "3.7.4"
  },
  "toc": {
   "base_numbering": 1,
   "nav_menu": {},
   "number_sections": true,
   "sideBar": true,
   "skip_h1_title": false,
   "title_cell": "Table of Contents",
   "title_sidebar": "Contents",
   "toc_cell": false,
   "toc_position": {},
   "toc_section_display": true,
   "toc_window_display": false
  }
 },
 "nbformat": 4,
 "nbformat_minor": 4
}
