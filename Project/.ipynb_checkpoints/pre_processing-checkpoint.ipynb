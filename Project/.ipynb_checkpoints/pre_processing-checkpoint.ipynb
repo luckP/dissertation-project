{
 "cells": [
  {
   "cell_type": "markdown",
   "metadata": {
    "id": "2AID7ZHcJ8-3"
   },
   "source": [
    "# Imports"
   ]
  },
  {
   "cell_type": "code",
   "execution_count": null,
   "metadata": {
    "id": "12gkaPW8GcPU"
   },
   "outputs": [],
   "source": [
    "import pandas as pd\n",
    "import numpy as np\n",
    "import matplotlib.pyplot as plt\n",
    "import time as time_time\n",
    "import sys\n"
   ]
  },
  {
   "cell_type": "markdown",
   "metadata": {
    "id": "hFbMS8I8PeM3"
   },
   "source": [
    "## Import file"
   ]
  },
  {
   "cell_type": "code",
   "execution_count": null,
   "metadata": {
    "id": "MgWPD2L0O--H"
   },
   "outputs": [],
   "source": [
    "columns = ['request_id', 'cli', 'e.fleet_id', 'taxi', 'time', 'dispatch_date', 'schedule_date', 'event', 'taxiFlags']\n",
    "df = pd.read_csv('MyDrive/FCUP/Tese/luc_csv.csv', names=columns)\n",
    "df.dropna(inplace=True)\n",
    "\n",
    "def filterDf(e):\n",
    "  try:\n",
    "    float(e)\n",
    "    return True\n",
    "  except:\n",
    "    return False\n",
    "\n",
    "df = df[[ i for i in map(filterDf, df['time'])]]\n",
    "\n",
    "def transformEvent(event):\n",
    "  return event.replace(\"'\", '').replace(' ', '')\n",
    "\n",
    "df['event'] = df['event'].transform(transformEvent)\n",
    "df = df[df['event'] == 'p']\n",
    "\n",
    "def transformCli(cli):\n",
    "  return cli.strip().replace(\"'\", '')\n",
    "\n",
    "df['cli'] = df['cli'].transform(transformCli)\n",
    "df = df[df['cli']!='']\n",
    "\n",
    "df2 =  pd.read_csv('MyDrive/FCUP/Tese/lucas_2020.csv')\n",
    "df2.dropna(inplace=True)\n",
    "# df2 = df2[df2['State'] == 6]"
   ]
  },
  {
   "cell_type": "code",
   "execution_count": null,
   "metadata": {
    "id": "3AqQ6DguimUH"
   },
   "outputs": [],
   "source": [
    "def transformTaxi(taxi):\n",
    "  taxi = str(taxi)\n",
    "  taxi = taxi[1:-1]\n",
    "  return int('2'+ '0'*(7-len(taxi)) + taxi)\n",
    "df['taxi_t'] = df['taxi'].transform(transformTaxi)\n",
    "\n",
    "def transformTime(time):\n",
    "  time = str(time)\n",
    "  time = time.strip()\n",
    "  return float(time)\n",
    "df['time'] = df['time'].transform(transformTime)\n",
    "\n",
    "df2['Timestamp'] = df2['Timestamp'].transform(float)\n",
    "df2['id'] = [id+1 for id in range(len(df2))]"
   ]
  },
  {
   "cell_type": "code",
   "execution_count": null,
   "metadata": {
    "colab": {
     "base_uri": "https://localhost:8080/",
     "height": 204
    },
    "id": "6Vyq_4AohLGm",
    "outputId": "d147369b-0a44-4ed0-970b-3b7947cfb064"
   },
   "outputs": [
    {
     "data": {
      "text/html": [
       "<div>\n",
       "<style scoped>\n",
       "    .dataframe tbody tr th:only-of-type {\n",
       "        vertical-align: middle;\n",
       "    }\n",
       "\n",
       "    .dataframe tbody tr th {\n",
       "        vertical-align: top;\n",
       "    }\n",
       "\n",
       "    .dataframe thead th {\n",
       "        text-align: right;\n",
       "    }\n",
       "</style>\n",
       "<table border=\"1\" class=\"dataframe\">\n",
       "  <thead>\n",
       "    <tr style=\"text-align: right;\">\n",
       "      <th></th>\n",
       "      <th>request_id</th>\n",
       "      <th>cli</th>\n",
       "      <th>e.fleet_id</th>\n",
       "      <th>taxi</th>\n",
       "      <th>time</th>\n",
       "      <th>dispatch_date</th>\n",
       "      <th>schedule_date</th>\n",
       "      <th>event</th>\n",
       "      <th>taxiFlags</th>\n",
       "      <th>taxi_t</th>\n",
       "    </tr>\n",
       "  </thead>\n",
       "  <tbody>\n",
       "    <tr>\n",
       "      <th>3</th>\n",
       "      <td>6213339L</td>\n",
       "      <td>917665187</td>\n",
       "      <td>0L</td>\n",
       "      <td>187L</td>\n",
       "      <td>1.577876e+09</td>\n",
       "      <td>1.577876e+09</td>\n",
       "      <td>1.577876e+09</td>\n",
       "      <td>p</td>\n",
       "      <td>0L</td>\n",
       "      <td>20000187</td>\n",
       "    </tr>\n",
       "    <tr>\n",
       "      <th>9</th>\n",
       "      <td>6213650L</td>\n",
       "      <td>226083900</td>\n",
       "      <td>0L</td>\n",
       "      <td>436L</td>\n",
       "      <td>1.577856e+09</td>\n",
       "      <td>1.577856e+09</td>\n",
       "      <td>1.577857e+09</td>\n",
       "      <td>p</td>\n",
       "      <td>83886080L</td>\n",
       "      <td>20000436</td>\n",
       "    </tr>\n",
       "    <tr>\n",
       "      <th>17</th>\n",
       "      <td>6213708L</td>\n",
       "      <td>0034674809288</td>\n",
       "      <td>0L</td>\n",
       "      <td>693L</td>\n",
       "      <td>1.577858e+09</td>\n",
       "      <td>1.577858e+09</td>\n",
       "      <td>1.577858e+09</td>\n",
       "      <td>p</td>\n",
       "      <td>0L</td>\n",
       "      <td>20000693</td>\n",
       "    </tr>\n",
       "    <tr>\n",
       "      <th>24</th>\n",
       "      <td>6213908L</td>\n",
       "      <td>916828692</td>\n",
       "      <td>0L</td>\n",
       "      <td>534L</td>\n",
       "      <td>1.577858e+09</td>\n",
       "      <td>1.577858e+09</td>\n",
       "      <td>1.577858e+09</td>\n",
       "      <td>p</td>\n",
       "      <td>0L</td>\n",
       "      <td>20000534</td>\n",
       "    </tr>\n",
       "    <tr>\n",
       "      <th>32</th>\n",
       "      <td>6214373L</td>\n",
       "      <td>210417160</td>\n",
       "      <td>0L</td>\n",
       "      <td>520L</td>\n",
       "      <td>1.577863e+09</td>\n",
       "      <td>1.577861e+09</td>\n",
       "      <td>1.577862e+09</td>\n",
       "      <td>p</td>\n",
       "      <td>524296L</td>\n",
       "      <td>20000520</td>\n",
       "    </tr>\n",
       "  </tbody>\n",
       "</table>\n",
       "</div>"
      ],
      "text/plain": [
       "   request_id            cli e.fleet_id  ... event   taxiFlags    taxi_t\n",
       "3    6213339L      917665187         0L  ...     p          0L  20000187\n",
       "9    6213650L      226083900         0L  ...     p   83886080L  20000436\n",
       "17   6213708L  0034674809288         0L  ...     p          0L  20000693\n",
       "24   6213908L      916828692         0L  ...     p          0L  20000534\n",
       "32   6214373L      210417160         0L  ...     p     524296L  20000520\n",
       "\n",
       "[5 rows x 10 columns]"
      ]
     },
     "execution_count": 5,
     "metadata": {
      "tags": []
     },
     "output_type": "execute_result"
    }
   ],
   "source": [
    "df.head()"
   ]
  },
  {
   "cell_type": "code",
   "execution_count": null,
   "metadata": {
    "colab": {
     "base_uri": "https://localhost:8080/",
     "height": 204
    },
    "id": "mTWRvDQ7icsR",
    "outputId": "792d1152-32c2-43ea-921f-86baf9005a7b"
   },
   "outputs": [
    {
     "data": {
      "text/html": [
       "<div>\n",
       "<style scoped>\n",
       "    .dataframe tbody tr th:only-of-type {\n",
       "        vertical-align: middle;\n",
       "    }\n",
       "\n",
       "    .dataframe tbody tr th {\n",
       "        vertical-align: top;\n",
       "    }\n",
       "\n",
       "    .dataframe thead th {\n",
       "        text-align: right;\n",
       "    }\n",
       "</style>\n",
       "<table border=\"1\" class=\"dataframe\">\n",
       "  <thead>\n",
       "    <tr style=\"text-align: right;\">\n",
       "      <th></th>\n",
       "      <th>Taxi_ID</th>\n",
       "      <th>State</th>\n",
       "      <th>Timestamp</th>\n",
       "      <th>Stand</th>\n",
       "      <th>Src</th>\n",
       "      <th>Dst</th>\n",
       "      <th>Distance</th>\n",
       "      <th>Duration</th>\n",
       "      <th>id</th>\n",
       "    </tr>\n",
       "  </thead>\n",
       "  <tbody>\n",
       "    <tr>\n",
       "      <th>0</th>\n",
       "      <td>20000012</td>\n",
       "      <td>6</td>\n",
       "      <td>1.577837e+09</td>\n",
       "      <td>0</td>\n",
       "      <td>(-8.60643, 41.144607)</td>\n",
       "      <td>(-8.591688, 41.146677000000004)</td>\n",
       "      <td>2351.740022</td>\n",
       "      <td>298</td>\n",
       "      <td>1</td>\n",
       "    </tr>\n",
       "    <tr>\n",
       "      <th>1</th>\n",
       "      <td>20000031</td>\n",
       "      <td>6</td>\n",
       "      <td>1.577837e+09</td>\n",
       "      <td>0</td>\n",
       "      <td>(-8.609184, 41.162274000000004)</td>\n",
       "      <td>(-8.609967000000001, 41.153832)</td>\n",
       "      <td>959.068005</td>\n",
       "      <td>102</td>\n",
       "      <td>2</td>\n",
       "    </tr>\n",
       "    <tr>\n",
       "      <th>2</th>\n",
       "      <td>20000667</td>\n",
       "      <td>6</td>\n",
       "      <td>1.577837e+09</td>\n",
       "      <td>0</td>\n",
       "      <td>(-8.619795, 41.148018)</td>\n",
       "      <td>(-8.624358, 41.179554)</td>\n",
       "      <td>4406.003140</td>\n",
       "      <td>513</td>\n",
       "      <td>3</td>\n",
       "    </tr>\n",
       "    <tr>\n",
       "      <th>3</th>\n",
       "      <td>20000607</td>\n",
       "      <td>6</td>\n",
       "      <td>1.577837e+09</td>\n",
       "      <td>0</td>\n",
       "      <td>(-8.612991000000001, 41.155182)</td>\n",
       "      <td>(-8.630595, 41.15448)</td>\n",
       "      <td>2557.944254</td>\n",
       "      <td>327</td>\n",
       "      <td>4</td>\n",
       "    </tr>\n",
       "    <tr>\n",
       "      <th>4</th>\n",
       "      <td>20000856</td>\n",
       "      <td>6</td>\n",
       "      <td>1.577838e+09</td>\n",
       "      <td>0</td>\n",
       "      <td>(-8.621397, 41.152833)</td>\n",
       "      <td>(-8.641323, 41.144175000000004)</td>\n",
       "      <td>5728.895360</td>\n",
       "      <td>472</td>\n",
       "      <td>5</td>\n",
       "    </tr>\n",
       "  </tbody>\n",
       "</table>\n",
       "</div>"
      ],
      "text/plain": [
       "    Taxi_ID  State     Timestamp  ...     Distance Duration id\n",
       "0  20000012      6  1.577837e+09  ...  2351.740022      298  1\n",
       "1  20000031      6  1.577837e+09  ...   959.068005      102  2\n",
       "2  20000667      6  1.577837e+09  ...  4406.003140      513  3\n",
       "3  20000607      6  1.577837e+09  ...  2557.944254      327  4\n",
       "4  20000856      6  1.577838e+09  ...  5728.895360      472  5\n",
       "\n",
       "[5 rows x 9 columns]"
      ]
     },
     "execution_count": 6,
     "metadata": {
      "tags": []
     },
     "output_type": "execute_result"
    }
   ],
   "source": [
    "df2.head()"
   ]
  },
  {
   "cell_type": "code",
   "execution_count": null,
   "metadata": {
    "id": "Q9uFzvVmgLkz"
   },
   "outputs": [],
   "source": [
    "# print time\n",
    "def printTime(time):\n",
    "  time = int(time*1000)\n",
    "  hour = int(time/3600000)\n",
    "  min = int((time - hour * 3600000) / 60000)\n",
    "  sec = int(( time - hour * 3600000  - min*60000 )/1000)\n",
    "  mil_sec = time - hour * 3600000  - min * 60000 - sec * 1000\n",
    "  return format(hour, '02d') + ': ' + format(min, '02d') + ': ' + format(sec, '02d') + ': ' + format(mil_sec, '04d')\n",
    "\n",
    "class PrintInfo:\n",
    "  def __init__(self, data, info):\n",
    "      self.current = -1\n",
    "      self.data = data\n",
    "      self.time = time_time.time()\n",
    "      self.info = info\n",
    "\n",
    "  def __iter__(self):\n",
    "      return self\n",
    "\n",
    "  def __next__(self):\n",
    "      self.current += 1\n",
    "      if self.current % int(len(self.data)/10000) == 0:\n",
    "        s = str(self.current)+' | '\n",
    "        s += \"%.2f\" % round((self.current /len(self.data))*100, 2) + '% | '\n",
    "        s += printTime(time_time.time() - self.time) + ' | '\n",
    "        s += printTime( (time_time.time() - self.time)*len(self.data)/(self.current+1) ) + ' | '\n",
    "        s += 'Matching: ' + str(len(self.info)) + ' | '\n",
    "        s += 'Ratio: ' + \"%.2f\" % round((len(self.info) /(self.current+1))*100, 2) + '% | '\n",
    "\n",
    "        sys.stdout.write(\"\\r\" + s)\n",
    "        sys.stdout.flush()\n",
    "\n",
    "      if self.current < len(self.data):\n",
    "          return self.data[self.current]\n",
    "      raise StopIteration"
   ]
  },
  {
   "cell_type": "code",
   "execution_count": null,
   "metadata": {
    "colab": {
     "base_uri": "https://localhost:8080/"
    },
    "id": "498yFN1DPIUJ",
    "outputId": "4a278216-8463-4224-92b3-f775c9d8a04d"
   },
   "outputs": [
    {
     "name": "stdout",
     "output_type": "stream",
     "text": [
      "202680 | 99.99% | 00: 04: 00: 0516 | 00: 04: 00: 0527 | Matching: 172675 | Ratio: 85.20% | "
     ]
    }
   ],
   "source": [
    "data = []\n",
    "\n",
    "d_1 = df.sort_values(by=['time']).to_numpy()\n",
    "\n",
    "df_dict = {}\n",
    "for taxi in df2['Taxi_ID']:\n",
    "  if taxi not in df_dict:\n",
    "    df_dict[taxi] = df2[df2['Taxi_ID'] == taxi].sort_values(by=['Timestamp']).to_numpy()\n",
    "\n",
    "for row_1 in PrintInfo(d_1, data):\n",
    "  time = int(row_1[4])\n",
    "  taxi_1 = int(row_1[9])\n",
    "\n",
    "  if taxi_1 in df_dict:\n",
    "    for row_2 in  df_dict[taxi_1]:\n",
    "      timestamp = int(row_2[2])\n",
    "      t = abs(abs(timestamp - time) - int(row_2[7]))\n",
    "      if t < 60 * 1:\n",
    "        # if row_2[8] not in ids:\n",
    "        data.append( list(row_1) + list(row_2) )\n",
    "        # ids.append(row_2[8])\n",
    "        break\n"
   ]
  },
  {
   "cell_type": "code",
   "execution_count": null,
   "metadata": {
    "id": "5yzRbRPgPZiI"
   },
   "outputs": [],
   "source": [
    "df3 = pd.DataFrame(data, columns=(list(df.columns) + list(df2.columns)))\n",
    "d = {} \n",
    "for i in list(abs(df3['time'] - df3['Timestamp']) - df3['Duration']):\n",
    "  key = int(abs(i))\n",
    "  if key not in d:\n",
    "    d[key] = 0\n",
    "  d[key] += 1\n",
    "\n",
    "df4 = pd.DataFrame(d, index=[1])\n",
    "df4 = df4.sort_index(axis=1)\n",
    "\n"
   ]
  },
  {
   "cell_type": "code",
   "execution_count": null,
   "metadata": {
    "colab": {
     "base_uri": "https://localhost:8080/",
     "height": 343
    },
    "id": "t-w0eiHnlXiG",
    "outputId": "1475a0ba-253b-4b1d-f6f6-d61dfad0818b"
   },
   "outputs": [
    {
     "data": {
      "text/plain": [
       "<matplotlib.axes._subplots.AxesSubplot at 0x7f65db207d30>"
      ]
     },
     "execution_count": 10,
     "metadata": {
      "tags": []
     },
     "output_type": "execute_result"
    },
    {
     "data": {
      "image/png": "[encoded data removed]",
      "text/plain": [
       "<Figure size 1080x360 with 1 Axes>"
      ]
     },
     "metadata": {
      "needs_background": "light",
      "tags": []
     },
     "output_type": "display_data"
    }
   ],
   "source": [
    "df4.T.tail(len(df4)-2).plot.bar(figsize=(15,5))"
   ]
  },
  {
   "cell_type": "code",
   "execution_count": null,
   "metadata": {
    "id": "eRqO-sbAdeHX"
   },
   "outputs": [],
   "source": []
  }
 ],
 "metadata": {
  "colab": {
   "collapsed_sections": [],
   "name": "Untitled3.ipynb",
   "provenance": []
  },
  "kernelspec": {
   "display_name": "Python 3",
   "language": "python",
   "name": "python3"
  },
  "language_info": {
   "codemirror_mode": {
    "name": "ipython",
    "version": 3
   },
   "file_extension": ".py",
   "mimetype": "text/x-python",
   "name": "python",
   "nbconvert_exporter": "python",
   "pygments_lexer": "ipython3",
   "version": "3.7.4"
  },
  "toc": {
   "base_numbering": 1,
   "nav_menu": {},
   "number_sections": true,
   "sideBar": true,
   "skip_h1_title": false,
   "title_cell": "Table of Contents",
   "title_sidebar": "Contents",
   "toc_cell": false,
   "toc_position": {},
   "toc_section_display": true,
   "toc_window_display": false
  }
 },
 "nbformat": 4,
 "nbformat_minor": 1
}
