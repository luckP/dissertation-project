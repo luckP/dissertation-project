{
 "cells": [
  {
   "cell_type": "code",
   "execution_count": 1,
   "metadata": {},
   "outputs": [],
   "source": [
    "import numpy as np\n",
    "import pandas as pd\n",
    "import random as rnd\n",
    "from random import randint\n",
    "import panel as pn\n",
    "import panel.widgets as pnw\n",
    "import matplotlib.pyplot as plt\n",
    "from time import time\n",
    "from numpy.linalg import norm\n",
    "from matplotlib.figure import Figure\n",
    "from matplotlib.backends.backend_agg import FigureCanvas\n",
    "from matplotlib.patches import Polygon as plt_Polygon\n",
    "from matplotlib.collections import PatchCollection\n",
    "\n",
    "import psycopg2\n",
    "import math\n",
    "from matplotlib.animation import FuncAnimation\n",
    "import datetime\n",
    "import csv\n",
    "from postgis import Polygon,MultiPolygon\n",
    "from postgis.psycopg import register\n",
    "\n",
    "from time import time\n",
    "import time\n",
    "import progressbar\n",
    "\n",
    "# \n",
    "from shapely.geometry import Point\n",
    "from shapely.geometry.polygon import Polygon\n",
    "\n",
    "import shapely.geometry as sg\n",
    "import shapely.ops as so"
   ]
  },
  {
   "cell_type": "code",
   "execution_count": 4,
   "metadata": {},
   "outputs": [],
   "source": [
    "data = pd.read_csv('../../csv_s/out.csv')\n",
    "\n",
    "def tranfFunc(x):\n",
    "    y = x[1: -1].split(',')\n",
    "    return [float(y[0]), float(y[1])]\n",
    "\n",
    "src = data['Src'].transform(tranfFunc).to_numpy()\n",
    "dst = data['Dst'].transform(tranfFunc).to_numpy()\n"
   ]
  },
  {
   "cell_type": "code",
   "execution_count": 10,
   "metadata": {},
   "outputs": [
    {
     "name": "stdout",
     "output_type": "stream",
     "text": [
      "<connection object at 0x7fded8437e10; dsn: 'user=postgres password=xxx dbname=client-project-places host=127.0.0.1 port=9876', closed: 0>\n"
     ]
    }
   ],
   "source": [
    "conn = psycopg2.connect(database=\"client-project-places\", user=\"postgres\", password='', host=\"127.0.0.1\", port=\"9876\")\n",
    "print(conn)"
   ]
  },
  {
   "cell_type": "code",
   "execution_count": 45,
   "metadata": {},
   "outputs": [
    {
     "name": "stderr",
     "output_type": "stream",
     "text": [
      "100% (172675 of 172675) |################| Elapsed Time: 3:22:59 Time:  3:22:59\n"
     ]
    }
   ],
   "source": [
    "places_matrix = []\n",
    "\n",
    "register(conn)\n",
    "cursor_psql = conn.cursor()\n",
    "\n",
    "for x in progressbar.progressbar(dst):\n",
    "    district = council = parish = '-'\n",
    "    sql=\"\"\"\n",
    "    SELECT distrito, concelho, freguesia \n",
    "        FROM parishes \n",
    "        WHERE ST_Contains(\n",
    "            geom, ST_GeometryFromText(\n",
    "                ST_AsText(\n",
    "                    ST_Transform(\n",
    "                        ST_GeomFromText('POINT( \"\"\"+ str(x[0]) + \"\"\" \"\"\"+ str(x[1]) + \"\"\")',4326),3763\n",
    "                    )\n",
    "                ),3763\n",
    "            )\n",
    "        )\n",
    "    \"\"\"\n",
    "    cursor_psql.execute(sql)\n",
    "    results = cursor_psql.fetchall()\n",
    "\n",
    "    for row in results:\n",
    "        district, council, parish = row[0], row[1], row[2]\n",
    "\n",
    "    places_matrix.append([district, council, parish])\n",
    "                \n",
    "df = pd.DataFrame(places_matrix)"
   ]
  },
  {
   "cell_type": "code",
   "execution_count": 46,
   "metadata": {},
   "outputs": [],
   "source": [
    "df.to_csv('dst.csv')"
   ]
  },
  {
   "cell_type": "code",
   "execution_count": 5,
   "metadata": {},
   "outputs": [
    {
     "data": {
      "text/plain": [
       "array([list([-8.648163, 41.162184]),\n",
       "       list([-8.624565, 41.174865000000004]), list([-8.60031, 41.145885]),\n",
       "       ..., list([-8.622621, 41.145822]),\n",
       "       list([-8.64927, 41.168727000000004]),\n",
       "       list([-8.642646000000001, 41.158242])], dtype=object)"
      ]
     },
     "execution_count": 5,
     "metadata": {},
     "output_type": "execute_result"
    }
   ],
   "source": [
    "src"
   ]
  },
  {
   "cell_type": "code",
   "execution_count": null,
   "metadata": {},
   "outputs": [],
   "source": []
  }
 ],
 "metadata": {
  "kernelspec": {
   "display_name": "Python 3",
   "language": "python",
   "name": "python3"
  },
  "language_info": {
   "codemirror_mode": {
    "name": "ipython",
    "version": 3
   },
   "file_extension": ".py",
   "mimetype": "text/x-python",
   "name": "python",
   "nbconvert_exporter": "python",
   "pygments_lexer": "ipython3",
   "version": "3.7.4"
  },
  "toc": {
   "base_numbering": 1,
   "nav_menu": {},
   "number_sections": true,
   "sideBar": true,
   "skip_h1_title": false,
   "title_cell": "Table of Contents",
   "title_sidebar": "Contents",
   "toc_cell": false,
   "toc_position": {},
   "toc_section_display": true,
   "toc_window_display": false
  }
 },
 "nbformat": 4,
 "nbformat_minor": 4
}
