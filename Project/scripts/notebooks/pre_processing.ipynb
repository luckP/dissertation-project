{
 "cells": [
  {
   "cell_type": "markdown",
   "metadata": {
    "id": "2AID7ZHcJ8-3"
   },
   "source": [
    "# Imports"
   ]
  },
  {
   "cell_type": "code",
   "execution_count": 51,
   "metadata": {
    "id": "12gkaPW8GcPU"
   },
   "outputs": [],
   "source": [
    "import pandas as pd\n",
    "import numpy as np\n",
    "import matplotlib.pyplot as plt\n",
    "import time as time_time\n",
    "import sys\n"
   ]
  },
  {
   "cell_type": "markdown",
   "metadata": {
    "id": "hFbMS8I8PeM3"
   },
   "source": [
    "# Events File\n",
    "## Import"
   ]
  },
  {
   "cell_type": "code",
   "execution_count": 52,
   "metadata": {},
   "outputs": [
    {
     "data": {
      "text/html": [
       "<div>\n",
       "<style scoped>\n",
       "    .dataframe tbody tr th:only-of-type {\n",
       "        vertical-align: middle;\n",
       "    }\n",
       "\n",
       "    .dataframe tbody tr th {\n",
       "        vertical-align: top;\n",
       "    }\n",
       "\n",
       "    .dataframe thead th {\n",
       "        text-align: right;\n",
       "    }\n",
       "</style>\n",
       "<table border=\"1\" class=\"dataframe\">\n",
       "  <thead>\n",
       "    <tr style=\"text-align: right;\">\n",
       "      <th></th>\n",
       "      <th>request_id</th>\n",
       "      <th>cli</th>\n",
       "      <th>e.fleet_id</th>\n",
       "      <th>taxi</th>\n",
       "      <th>time</th>\n",
       "      <th>dispatch_date</th>\n",
       "      <th>schedule_date</th>\n",
       "      <th>event</th>\n",
       "      <th>taxiFlags</th>\n",
       "      <th>reqFlags</th>\n",
       "      <th>r.operator_id</th>\n",
       "      <th>e.operator_id</th>\n",
       "    </tr>\n",
       "  </thead>\n",
       "  <tbody>\n",
       "    <tr>\n",
       "      <th>0</th>\n",
       "      <td>6213339L</td>\n",
       "      <td>'917665187'</td>\n",
       "      <td>0L</td>\n",
       "      <td>187L</td>\n",
       "      <td>1577875920.04847</td>\n",
       "      <td>1.577876e+09</td>\n",
       "      <td>1.577876e+09</td>\n",
       "      <td>'a'</td>\n",
       "      <td>0L</td>\n",
       "      <td>11L</td>\n",
       "      <td>32L</td>\n",
       "      <td>18L</td>\n",
       "    </tr>\n",
       "    <tr>\n",
       "      <th>1</th>\n",
       "      <td>6213339L</td>\n",
       "      <td>'917665187'</td>\n",
       "      <td>0L</td>\n",
       "      <td>187L</td>\n",
       "      <td>1577875926.11388</td>\n",
       "      <td>1.577876e+09</td>\n",
       "      <td>1.577876e+09</td>\n",
       "      <td>'A'</td>\n",
       "      <td>0L</td>\n",
       "      <td>11L</td>\n",
       "      <td>32L</td>\n",
       "      <td>19L</td>\n",
       "    </tr>\n",
       "    <tr>\n",
       "      <th>2</th>\n",
       "      <td>6213339L</td>\n",
       "      <td>'917665187'</td>\n",
       "      <td>0L</td>\n",
       "      <td>950L</td>\n",
       "      <td>1577875920.03415</td>\n",
       "      <td>1.577876e+09</td>\n",
       "      <td>1.577876e+09</td>\n",
       "      <td>'c'</td>\n",
       "      <td>0L</td>\n",
       "      <td>11L</td>\n",
       "      <td>32L</td>\n",
       "      <td>18L</td>\n",
       "    </tr>\n",
       "    <tr>\n",
       "      <th>3</th>\n",
       "      <td>6213339L</td>\n",
       "      <td>'917665187'</td>\n",
       "      <td>0L</td>\n",
       "      <td>187L</td>\n",
       "      <td>1577876426.69929</td>\n",
       "      <td>1.577876e+09</td>\n",
       "      <td>1.577876e+09</td>\n",
       "      <td>'p'</td>\n",
       "      <td>0L</td>\n",
       "      <td>11L</td>\n",
       "      <td>32L</td>\n",
       "      <td>19L</td>\n",
       "    </tr>\n",
       "    <tr>\n",
       "      <th>4</th>\n",
       "      <td>6213339L</td>\n",
       "      <td>'917665187'</td>\n",
       "      <td>0L</td>\n",
       "      <td>187L</td>\n",
       "      <td>1577877792.16427</td>\n",
       "      <td>1.577876e+09</td>\n",
       "      <td>1.577876e+09</td>\n",
       "      <td>'q'</td>\n",
       "      <td>0L</td>\n",
       "      <td>11L</td>\n",
       "      <td>32L</td>\n",
       "      <td>19L</td>\n",
       "    </tr>\n",
       "  </tbody>\n",
       "</table>\n",
       "</div>"
      ],
      "text/plain": [
       "  request_id           cli e.fleet_id   taxi               time  \\\n",
       "0   6213339L   '917665187'         0L   187L   1577875920.04847   \n",
       "1   6213339L   '917665187'         0L   187L   1577875926.11388   \n",
       "2   6213339L   '917665187'         0L   950L   1577875920.03415   \n",
       "3   6213339L   '917665187'         0L   187L   1577876426.69929   \n",
       "4   6213339L   '917665187'         0L   187L   1577877792.16427   \n",
       "\n",
       "   dispatch_date  schedule_date event taxiFlags reqFlags r.operator_id  \\\n",
       "0   1.577876e+09   1.577876e+09   'a'        0L      11L           32L   \n",
       "1   1.577876e+09   1.577876e+09   'A'        0L      11L           32L   \n",
       "2   1.577876e+09   1.577876e+09   'c'        0L      11L           32L   \n",
       "3   1.577876e+09   1.577876e+09   'p'        0L      11L           32L   \n",
       "4   1.577876e+09   1.577876e+09   'q'        0L      11L           32L   \n",
       "\n",
       "  e.operator_id  \n",
       "0           18L  \n",
       "1           19L  \n",
       "2           18L  \n",
       "3           19L  \n",
       "4           19L  "
      ]
     },
     "execution_count": 52,
     "metadata": {},
     "output_type": "execute_result"
    }
   ],
   "source": [
    "columns = ['request_id', 'cli', 'e.fleet_id', 'taxi', 'time', 'dispatch_date', 'schedule_date', 'event', 'taxiFlags', 'reqFlags', 'r.operator_id', 'e.operator_id']\n",
    "df = pd.read_csv('../../csv_s/luc_csv.csv', names=columns)\n",
    "\n",
    "df.head()"
   ]
  },
  {
   "cell_type": "markdown",
   "metadata": {},
   "source": [
    "## Filter invalide values"
   ]
  },
  {
   "cell_type": "code",
   "execution_count": 53,
   "metadata": {},
   "outputs": [
    {
     "data": {
      "text/html": [
       "<div>\n",
       "<style scoped>\n",
       "    .dataframe tbody tr th:only-of-type {\n",
       "        vertical-align: middle;\n",
       "    }\n",
       "\n",
       "    .dataframe tbody tr th {\n",
       "        vertical-align: top;\n",
       "    }\n",
       "\n",
       "    .dataframe thead th {\n",
       "        text-align: right;\n",
       "    }\n",
       "</style>\n",
       "<table border=\"1\" class=\"dataframe\">\n",
       "  <thead>\n",
       "    <tr style=\"text-align: right;\">\n",
       "      <th></th>\n",
       "      <th>request_id</th>\n",
       "      <th>cli</th>\n",
       "      <th>e.fleet_id</th>\n",
       "      <th>taxi</th>\n",
       "      <th>time</th>\n",
       "      <th>dispatch_date</th>\n",
       "      <th>schedule_date</th>\n",
       "      <th>event</th>\n",
       "      <th>taxiFlags</th>\n",
       "      <th>reqFlags</th>\n",
       "      <th>r.operator_id</th>\n",
       "      <th>e.operator_id</th>\n",
       "    </tr>\n",
       "  </thead>\n",
       "  <tbody>\n",
       "    <tr>\n",
       "      <th>0</th>\n",
       "      <td>6213339L</td>\n",
       "      <td>'917665187'</td>\n",
       "      <td>0L</td>\n",
       "      <td>187L</td>\n",
       "      <td>1577875920.04847</td>\n",
       "      <td>1.577876e+09</td>\n",
       "      <td>1.577876e+09</td>\n",
       "      <td>'a'</td>\n",
       "      <td>0L</td>\n",
       "      <td>11L</td>\n",
       "      <td>32L</td>\n",
       "      <td>18L</td>\n",
       "    </tr>\n",
       "    <tr>\n",
       "      <th>1</th>\n",
       "      <td>6213339L</td>\n",
       "      <td>'917665187'</td>\n",
       "      <td>0L</td>\n",
       "      <td>187L</td>\n",
       "      <td>1577875926.11388</td>\n",
       "      <td>1.577876e+09</td>\n",
       "      <td>1.577876e+09</td>\n",
       "      <td>'A'</td>\n",
       "      <td>0L</td>\n",
       "      <td>11L</td>\n",
       "      <td>32L</td>\n",
       "      <td>19L</td>\n",
       "    </tr>\n",
       "    <tr>\n",
       "      <th>2</th>\n",
       "      <td>6213339L</td>\n",
       "      <td>'917665187'</td>\n",
       "      <td>0L</td>\n",
       "      <td>950L</td>\n",
       "      <td>1577875920.03415</td>\n",
       "      <td>1.577876e+09</td>\n",
       "      <td>1.577876e+09</td>\n",
       "      <td>'c'</td>\n",
       "      <td>0L</td>\n",
       "      <td>11L</td>\n",
       "      <td>32L</td>\n",
       "      <td>18L</td>\n",
       "    </tr>\n",
       "    <tr>\n",
       "      <th>3</th>\n",
       "      <td>6213339L</td>\n",
       "      <td>'917665187'</td>\n",
       "      <td>0L</td>\n",
       "      <td>187L</td>\n",
       "      <td>1577876426.69929</td>\n",
       "      <td>1.577876e+09</td>\n",
       "      <td>1.577876e+09</td>\n",
       "      <td>'p'</td>\n",
       "      <td>0L</td>\n",
       "      <td>11L</td>\n",
       "      <td>32L</td>\n",
       "      <td>19L</td>\n",
       "    </tr>\n",
       "    <tr>\n",
       "      <th>4</th>\n",
       "      <td>6213339L</td>\n",
       "      <td>'917665187'</td>\n",
       "      <td>0L</td>\n",
       "      <td>187L</td>\n",
       "      <td>1577877792.16427</td>\n",
       "      <td>1.577876e+09</td>\n",
       "      <td>1.577876e+09</td>\n",
       "      <td>'q'</td>\n",
       "      <td>0L</td>\n",
       "      <td>11L</td>\n",
       "      <td>32L</td>\n",
       "      <td>19L</td>\n",
       "    </tr>\n",
       "  </tbody>\n",
       "</table>\n",
       "</div>"
      ],
      "text/plain": [
       "  request_id           cli e.fleet_id   taxi               time  \\\n",
       "0   6213339L   '917665187'         0L   187L   1577875920.04847   \n",
       "1   6213339L   '917665187'         0L   187L   1577875926.11388   \n",
       "2   6213339L   '917665187'         0L   950L   1577875920.03415   \n",
       "3   6213339L   '917665187'         0L   187L   1577876426.69929   \n",
       "4   6213339L   '917665187'         0L   187L   1577877792.16427   \n",
       "\n",
       "   dispatch_date  schedule_date event taxiFlags reqFlags r.operator_id  \\\n",
       "0   1.577876e+09   1.577876e+09   'a'        0L      11L           32L   \n",
       "1   1.577876e+09   1.577876e+09   'A'        0L      11L           32L   \n",
       "2   1.577876e+09   1.577876e+09   'c'        0L      11L           32L   \n",
       "3   1.577876e+09   1.577876e+09   'p'        0L      11L           32L   \n",
       "4   1.577876e+09   1.577876e+09   'q'        0L      11L           32L   \n",
       "\n",
       "  e.operator_id  \n",
       "0           18L  \n",
       "1           19L  \n",
       "2           18L  \n",
       "3           19L  \n",
       "4           19L  "
      ]
     },
     "execution_count": 53,
     "metadata": {},
     "output_type": "execute_result"
    }
   ],
   "source": [
    "df.dropna(inplace=True)\n",
    "\n",
    "# invalid time\n",
    "def filterDf(e):\n",
    "    try:\n",
    "        float(e)\n",
    "        return True\n",
    "    except:\n",
    "        return False\n",
    "\n",
    "df = df[[ i for i in map(filterDf, df['time'])]]\n",
    "df.head()"
   ]
  },
  {
   "cell_type": "markdown",
   "metadata": {},
   "source": [
    "## Filter events other than 'p'"
   ]
  },
  {
   "cell_type": "code",
   "execution_count": 54,
   "metadata": {},
   "outputs": [
    {
     "data": {
      "text/html": [
       "<div>\n",
       "<style scoped>\n",
       "    .dataframe tbody tr th:only-of-type {\n",
       "        vertical-align: middle;\n",
       "    }\n",
       "\n",
       "    .dataframe tbody tr th {\n",
       "        vertical-align: top;\n",
       "    }\n",
       "\n",
       "    .dataframe thead th {\n",
       "        text-align: right;\n",
       "    }\n",
       "</style>\n",
       "<table border=\"1\" class=\"dataframe\">\n",
       "  <thead>\n",
       "    <tr style=\"text-align: right;\">\n",
       "      <th></th>\n",
       "      <th>request_id</th>\n",
       "      <th>cli</th>\n",
       "      <th>e.fleet_id</th>\n",
       "      <th>taxi</th>\n",
       "      <th>time</th>\n",
       "      <th>dispatch_date</th>\n",
       "      <th>schedule_date</th>\n",
       "      <th>event</th>\n",
       "      <th>taxiFlags</th>\n",
       "      <th>reqFlags</th>\n",
       "      <th>r.operator_id</th>\n",
       "      <th>e.operator_id</th>\n",
       "    </tr>\n",
       "  </thead>\n",
       "  <tbody>\n",
       "    <tr>\n",
       "      <th>3</th>\n",
       "      <td>6213339L</td>\n",
       "      <td>'917665187'</td>\n",
       "      <td>0L</td>\n",
       "      <td>187L</td>\n",
       "      <td>1577876426.69929</td>\n",
       "      <td>1.577876e+09</td>\n",
       "      <td>1.577876e+09</td>\n",
       "      <td>p</td>\n",
       "      <td>0L</td>\n",
       "      <td>11L</td>\n",
       "      <td>32L</td>\n",
       "      <td>19L</td>\n",
       "    </tr>\n",
       "    <tr>\n",
       "      <th>9</th>\n",
       "      <td>6213650L</td>\n",
       "      <td>'226083900'</td>\n",
       "      <td>0L</td>\n",
       "      <td>436L</td>\n",
       "      <td>1577856174.51031</td>\n",
       "      <td>1.577856e+09</td>\n",
       "      <td>1.577857e+09</td>\n",
       "      <td>p</td>\n",
       "      <td>83886080L</td>\n",
       "      <td>9L</td>\n",
       "      <td>6L</td>\n",
       "      <td>19L</td>\n",
       "    </tr>\n",
       "    <tr>\n",
       "      <th>17</th>\n",
       "      <td>6213708L</td>\n",
       "      <td>'0034674809288'</td>\n",
       "      <td>0L</td>\n",
       "      <td>693L</td>\n",
       "      <td>1577857840.81193</td>\n",
       "      <td>1.577858e+09</td>\n",
       "      <td>1.577858e+09</td>\n",
       "      <td>p</td>\n",
       "      <td>0L</td>\n",
       "      <td>8L</td>\n",
       "      <td>6L</td>\n",
       "      <td>19L</td>\n",
       "    </tr>\n",
       "    <tr>\n",
       "      <th>24</th>\n",
       "      <td>6213908L</td>\n",
       "      <td>'916828692'</td>\n",
       "      <td>0L</td>\n",
       "      <td>534L</td>\n",
       "      <td>1577858210.85629</td>\n",
       "      <td>1.577858e+09</td>\n",
       "      <td>1.577858e+09</td>\n",
       "      <td>p</td>\n",
       "      <td>0L</td>\n",
       "      <td>11L</td>\n",
       "      <td>8L</td>\n",
       "      <td>19L</td>\n",
       "    </tr>\n",
       "    <tr>\n",
       "      <th>32</th>\n",
       "      <td>6214373L</td>\n",
       "      <td>'210417160'</td>\n",
       "      <td>0L</td>\n",
       "      <td>520L</td>\n",
       "      <td>1577862578.19791</td>\n",
       "      <td>1.577861e+09</td>\n",
       "      <td>1.577862e+09</td>\n",
       "      <td>p</td>\n",
       "      <td>524296L</td>\n",
       "      <td>11L</td>\n",
       "      <td>8L</td>\n",
       "      <td>19L</td>\n",
       "    </tr>\n",
       "  </tbody>\n",
       "</table>\n",
       "</div>"
      ],
      "text/plain": [
       "   request_id               cli e.fleet_id   taxi               time  \\\n",
       "3    6213339L       '917665187'         0L   187L   1577876426.69929   \n",
       "9    6213650L       '226083900'         0L   436L   1577856174.51031   \n",
       "17   6213708L   '0034674809288'         0L   693L   1577857840.81193   \n",
       "24   6213908L       '916828692'         0L   534L   1577858210.85629   \n",
       "32   6214373L       '210417160'         0L   520L   1577862578.19791   \n",
       "\n",
       "    dispatch_date  schedule_date event   taxiFlags reqFlags r.operator_id  \\\n",
       "3    1.577876e+09   1.577876e+09     p          0L      11L           32L   \n",
       "9    1.577856e+09   1.577857e+09     p   83886080L       9L            6L   \n",
       "17   1.577858e+09   1.577858e+09     p          0L       8L            6L   \n",
       "24   1.577858e+09   1.577858e+09     p          0L      11L            8L   \n",
       "32   1.577861e+09   1.577862e+09     p     524296L      11L            8L   \n",
       "\n",
       "   e.operator_id  \n",
       "3            19L  \n",
       "9            19L  \n",
       "17           19L  \n",
       "24           19L  \n",
       "32           19L  "
      ]
     },
     "execution_count": 54,
     "metadata": {},
     "output_type": "execute_result"
    }
   ],
   "source": [
    "def transformEvent(event):\n",
    "    return event.replace(\"'\", '').replace(' ', '')\n",
    "\n",
    "df['event'] = df['event'].transform(transformEvent)\n",
    "df = df[df['event'] == 'p']\n",
    "\n",
    "df.head()"
   ]
  },
  {
   "cell_type": "markdown",
   "metadata": {},
   "source": [
    "## Transforms\n",
    "### Cli"
   ]
  },
  {
   "cell_type": "code",
   "execution_count": 55,
   "metadata": {},
   "outputs": [],
   "source": [
    "def transformCli(cli):\n",
    "    c = cli.strip().replace(\"'\", '')\n",
    "    if len(c) > 3 and c[0:4] == '+351':\n",
    "        c = c[4:] \n",
    "    return str(c)\n",
    "\n",
    "df['cli'] = df['cli'].transform(transformCli)\n",
    "df = df[df['cli']!='']"
   ]
  },
  {
   "cell_type": "markdown",
   "metadata": {},
   "source": [
    "### Taxi"
   ]
  },
  {
   "cell_type": "code",
   "execution_count": 56,
   "metadata": {},
   "outputs": [],
   "source": [
    "def transformTaxi(taxi):\n",
    "    taxi = str(taxi)\n",
    "    taxi = taxi[1:-1]\n",
    "    return int('2'+ '0'*(7-len(taxi)) + taxi)\n",
    "df['taxi_t'] = df['taxi'].transform(transformTaxi)"
   ]
  },
  {
   "cell_type": "markdown",
   "metadata": {},
   "source": [
    "### Time"
   ]
  },
  {
   "cell_type": "code",
   "execution_count": 57,
   "metadata": {},
   "outputs": [],
   "source": [
    "def transformTime(time):\n",
    "    time = str(time)\n",
    "    time = time.strip()\n",
    "    return float(time)\n",
    "df['time'] = df['time'].transform(transformTime)"
   ]
  },
  {
   "cell_type": "markdown",
   "metadata": {},
   "source": [
    "### reqFlags"
   ]
  },
  {
   "cell_type": "code",
   "execution_count": 58,
   "metadata": {},
   "outputs": [],
   "source": [
    "def transfReqFlags(flag):\n",
    "    return flag.strip()[:-1]\n",
    "\n",
    "df['reqFlags'] = df['reqFlags'].transform(transfReqFlags)"
   ]
  },
  {
   "cell_type": "markdown",
   "metadata": {},
   "source": [
    "### operator_id"
   ]
  },
  {
   "cell_type": "code",
   "execution_count": 59,
   "metadata": {},
   "outputs": [],
   "source": [
    "def transformOperatorId(operator_id):\n",
    "    return operator_id.strip()[:-1]\n",
    "\n",
    "df['r.operator_id'] = df['r.operator_id'].transform(transformOperatorId)\n",
    "df['e.operator_id'] = df['e.operator_id'].transform(transformOperatorId)"
   ]
  },
  {
   "cell_type": "markdown",
   "metadata": {},
   "source": [
    "#### operator_id simplify variable\n",
    "In this section we will simplify the operator id variable. We will transform the variable in only five groups: \n",
    "- 15: smart phone\n",
    "- 17: app\n",
    "- 62: kiosk\n",
    "- 65: webtl\n",
    "- others: Human"
   ]
  },
  {
   "cell_type": "code",
   "execution_count": 60,
   "metadata": {},
   "outputs": [],
   "source": [
    "def transformOperatorIdSimplify(operator):\n",
    "    if(operator == '15'):\n",
    "        return 'smart_phone'\n",
    "    elif(operator == '17'):\n",
    "        return 'app'\n",
    "    elif(operator == '62'):\n",
    "        return 'kiosk'\n",
    "    elif(operator == '65'):\n",
    "        return 'webtl'\n",
    "    else:\n",
    "        return 'human'\n",
    "df['operator_id'] = df['r.operator_id'].transform(transformOperatorIdSimplify)"
   ]
  },
  {
   "cell_type": "code",
   "execution_count": 61,
   "metadata": {},
   "outputs": [
    {
     "data": {
      "text/html": [
       "<div>\n",
       "<style scoped>\n",
       "    .dataframe tbody tr th:only-of-type {\n",
       "        vertical-align: middle;\n",
       "    }\n",
       "\n",
       "    .dataframe tbody tr th {\n",
       "        vertical-align: top;\n",
       "    }\n",
       "\n",
       "    .dataframe thead th {\n",
       "        text-align: right;\n",
       "    }\n",
       "</style>\n",
       "<table border=\"1\" class=\"dataframe\">\n",
       "  <thead>\n",
       "    <tr style=\"text-align: right;\">\n",
       "      <th></th>\n",
       "      <th>request_id</th>\n",
       "      <th>cli</th>\n",
       "      <th>e.fleet_id</th>\n",
       "      <th>taxi</th>\n",
       "      <th>time</th>\n",
       "      <th>dispatch_date</th>\n",
       "      <th>schedule_date</th>\n",
       "      <th>event</th>\n",
       "      <th>taxiFlags</th>\n",
       "      <th>reqFlags</th>\n",
       "      <th>r.operator_id</th>\n",
       "      <th>e.operator_id</th>\n",
       "      <th>taxi_t</th>\n",
       "      <th>operator_id</th>\n",
       "    </tr>\n",
       "  </thead>\n",
       "  <tbody>\n",
       "    <tr>\n",
       "      <th>3</th>\n",
       "      <td>6213339L</td>\n",
       "      <td>917665187</td>\n",
       "      <td>0L</td>\n",
       "      <td>187L</td>\n",
       "      <td>1.577876e+09</td>\n",
       "      <td>1.577876e+09</td>\n",
       "      <td>1.577876e+09</td>\n",
       "      <td>p</td>\n",
       "      <td>0L</td>\n",
       "      <td>11</td>\n",
       "      <td>32</td>\n",
       "      <td>19</td>\n",
       "      <td>20000187</td>\n",
       "      <td>human</td>\n",
       "    </tr>\n",
       "  </tbody>\n",
       "</table>\n",
       "</div>"
      ],
      "text/plain": [
       "  request_id        cli e.fleet_id   taxi          time  dispatch_date  \\\n",
       "3   6213339L  917665187         0L   187L  1.577876e+09   1.577876e+09   \n",
       "\n",
       "   schedule_date event taxiFlags reqFlags r.operator_id e.operator_id  \\\n",
       "3   1.577876e+09     p        0L       11            32            19   \n",
       "\n",
       "     taxi_t operator_id  \n",
       "3  20000187       human  "
      ]
     },
     "execution_count": 61,
     "metadata": {},
     "output_type": "execute_result"
    }
   ],
   "source": [
    "df.head(1)"
   ]
  },
  {
   "cell_type": "markdown",
   "metadata": {},
   "source": [
    "# Requests Files\n",
    "## Import"
   ]
  },
  {
   "cell_type": "code",
   "execution_count": 84,
   "metadata": {
    "id": "MgWPD2L0O--H"
   },
   "outputs": [
    {
     "data": {
      "text/plain": [
       "607221"
      ]
     },
     "execution_count": 84,
     "metadata": {},
     "output_type": "execute_result"
    }
   ],
   "source": [
    "df2 =  pd.read_csv('../../csv_s/lucas_2020.csv')\n",
    "\n",
    "len(df2)"
   ]
  },
  {
   "cell_type": "code",
   "execution_count": 96,
   "metadata": {},
   "outputs": [
    {
     "data": {
      "text/plain": [
       "88"
      ]
     },
     "execution_count": 96,
     "metadata": {},
     "output_type": "execute_result"
    }
   ],
   "source": [
    "len(df[df['cli'] == '933848797']['r.operator_id'])"
   ]
  },
  {
   "cell_type": "markdown",
   "metadata": {},
   "source": [
    "## Filter Invalid Values"
   ]
  },
  {
   "cell_type": "code",
   "execution_count": 63,
   "metadata": {},
   "outputs": [
    {
     "data": {
      "text/html": [
       "<div>\n",
       "<style scoped>\n",
       "    .dataframe tbody tr th:only-of-type {\n",
       "        vertical-align: middle;\n",
       "    }\n",
       "\n",
       "    .dataframe tbody tr th {\n",
       "        vertical-align: top;\n",
       "    }\n",
       "\n",
       "    .dataframe thead th {\n",
       "        text-align: right;\n",
       "    }\n",
       "</style>\n",
       "<table border=\"1\" class=\"dataframe\">\n",
       "  <thead>\n",
       "    <tr style=\"text-align: right;\">\n",
       "      <th></th>\n",
       "      <th>Taxi_ID</th>\n",
       "      <th>State</th>\n",
       "      <th>Timestamp</th>\n",
       "      <th>Stand</th>\n",
       "      <th>Src</th>\n",
       "      <th>Dst</th>\n",
       "      <th>Distance</th>\n",
       "      <th>Duration</th>\n",
       "    </tr>\n",
       "  </thead>\n",
       "  <tbody>\n",
       "    <tr>\n",
       "      <th>0</th>\n",
       "      <td>20000012</td>\n",
       "      <td>6</td>\n",
       "      <td>1577837132</td>\n",
       "      <td>0</td>\n",
       "      <td>(-8.60643, 41.144607)</td>\n",
       "      <td>(-8.591688, 41.146677000000004)</td>\n",
       "      <td>2351.740022</td>\n",
       "      <td>298</td>\n",
       "    </tr>\n",
       "    <tr>\n",
       "      <th>1</th>\n",
       "      <td>20000031</td>\n",
       "      <td>6</td>\n",
       "      <td>1577837216</td>\n",
       "      <td>0</td>\n",
       "      <td>(-8.609184, 41.162274000000004)</td>\n",
       "      <td>(-8.609967000000001, 41.153832)</td>\n",
       "      <td>959.068005</td>\n",
       "      <td>102</td>\n",
       "    </tr>\n",
       "    <tr>\n",
       "      <th>2</th>\n",
       "      <td>20000667</td>\n",
       "      <td>6</td>\n",
       "      <td>1577837386</td>\n",
       "      <td>0</td>\n",
       "      <td>(-8.619795, 41.148018)</td>\n",
       "      <td>(-8.624358, 41.179554)</td>\n",
       "      <td>4406.003140</td>\n",
       "      <td>513</td>\n",
       "    </tr>\n",
       "    <tr>\n",
       "      <th>3</th>\n",
       "      <td>20000607</td>\n",
       "      <td>6</td>\n",
       "      <td>1577837418</td>\n",
       "      <td>0</td>\n",
       "      <td>(-8.612991000000001, 41.155182)</td>\n",
       "      <td>(-8.630595, 41.15448)</td>\n",
       "      <td>2557.944254</td>\n",
       "      <td>327</td>\n",
       "    </tr>\n",
       "    <tr>\n",
       "      <th>4</th>\n",
       "      <td>20000856</td>\n",
       "      <td>6</td>\n",
       "      <td>1577837503</td>\n",
       "      <td>0</td>\n",
       "      <td>(-8.621397, 41.152833)</td>\n",
       "      <td>(-8.641323, 41.144175000000004)</td>\n",
       "      <td>5728.895360</td>\n",
       "      <td>472</td>\n",
       "    </tr>\n",
       "  </tbody>\n",
       "</table>\n",
       "</div>"
      ],
      "text/plain": [
       "    Taxi_ID  State   Timestamp  Stand                              Src  \\\n",
       "0  20000012      6  1577837132      0            (-8.60643, 41.144607)   \n",
       "1  20000031      6  1577837216      0  (-8.609184, 41.162274000000004)   \n",
       "2  20000667      6  1577837386      0           (-8.619795, 41.148018)   \n",
       "3  20000607      6  1577837418      0  (-8.612991000000001, 41.155182)   \n",
       "4  20000856      6  1577837503      0           (-8.621397, 41.152833)   \n",
       "\n",
       "                               Dst     Distance  Duration  \n",
       "0  (-8.591688, 41.146677000000004)  2351.740022       298  \n",
       "1  (-8.609967000000001, 41.153832)   959.068005       102  \n",
       "2           (-8.624358, 41.179554)  4406.003140       513  \n",
       "3            (-8.630595, 41.15448)  2557.944254       327  \n",
       "4  (-8.641323, 41.144175000000004)  5728.895360       472  "
      ]
     },
     "execution_count": 63,
     "metadata": {},
     "output_type": "execute_result"
    }
   ],
   "source": [
    "df2.dropna(inplace=True)\n",
    "# df2 = df2[df2['State'] == 6]\n",
    "df2.dropna(inplace=True)\n",
    "df2.head()"
   ]
  },
  {
   "cell_type": "markdown",
   "metadata": {},
   "source": [
    "## Transforms\n",
    "### Timestamp"
   ]
  },
  {
   "cell_type": "code",
   "execution_count": 64,
   "metadata": {
    "id": "3AqQ6DguimUH"
   },
   "outputs": [],
   "source": [
    "df2['Timestamp'] = df2['Timestamp'].transform(float)\n",
    "# df2['id'] = [id+1 for id in range(len(df2))]"
   ]
  },
  {
   "cell_type": "markdown",
   "metadata": {
    "colab": {
     "base_uri": "https://localhost:8080/",
     "height": 204
    },
    "id": "6Vyq_4AohLGm",
    "outputId": "d147369b-0a44-4ed0-970b-3b7947cfb064"
   },
   "source": [
    "### Src & Dst"
   ]
  },
  {
   "cell_type": "code",
   "execution_count": 65,
   "metadata": {},
   "outputs": [],
   "source": [
    "def tranfCoords(x):\n",
    "    x = x.replace(' ', '')\n",
    "    y = x[1: -1].split(',')\n",
    "    return [float(y[0]), float(y[1])]\n",
    "\n",
    "df2['Src'] = df2['Src'].transform(tranfCoords)\n",
    "df2['Dst'] = df2['Dst'].transform(tranfCoords)"
   ]
  },
  {
   "cell_type": "markdown",
   "metadata": {},
   "source": [
    "# Join Files\n",
    "## Custom print < Move to utilit file >"
   ]
  },
  {
   "cell_type": "code",
   "execution_count": 66,
   "metadata": {
    "id": "Q9uFzvVmgLkz"
   },
   "outputs": [],
   "source": [
    "# print time\n",
    "def printTime(time):\n",
    "    time = int(time*1000)\n",
    "    hour = int(time/3600000)\n",
    "    min = int((time - hour * 3600000) / 60000)\n",
    "    sec = int(( time - hour * 3600000  - min*60000 )/1000)\n",
    "    mil_sec = time - hour * 3600000  - min * 60000 - sec * 1000\n",
    "    return format(hour, '02d') + ': ' + format(min, '02d') + ': ' + format(sec, '02d') + ': ' + format(mil_sec, '04d')\n",
    "\n",
    "class PrintInfo:\n",
    "    def __init__(self, data, info):\n",
    "        self.current = -1\n",
    "        self.data = data\n",
    "        self.time = time_time.time()\n",
    "        self.info = info\n",
    "\n",
    "    def __iter__(self):\n",
    "        return self\n",
    "\n",
    "    def __next__(self):\n",
    "        self.current += 1\n",
    "        if self.current % int(len(self.data)/10000) == 0:\n",
    "            s = str(self.current)+' | '\n",
    "            s += \"%.2f\" % round((self.current /len(self.data))*100, 2) + '% | '\n",
    "            s += printTime(time_time.time() - self.time) + ' | '\n",
    "            s += printTime( (time_time.time() - self.time)*len(self.data)/(self.current+1) ) + ' | '\n",
    "            s += 'Matching: ' + str(len(self.info)) + ' | '\n",
    "            s += 'Ratio: ' + \"%.2f\" % round((len(self.info) /(self.current+1))*100, 2) + '% | '\n",
    "\n",
    "            sys.stdout.write(\"\\r\" + s)\n",
    "            sys.stdout.flush()\n",
    "\n",
    "        if self.current < len(self.data):\n",
    "            return self.data[self.current]\n",
    "        raise StopIteration\n",
    "        "
   ]
  },
  {
   "cell_type": "code",
   "execution_count": 67,
   "metadata": {},
   "outputs": [
    {
     "data": {
      "text/html": [
       "<div>\n",
       "<style scoped>\n",
       "    .dataframe tbody tr th:only-of-type {\n",
       "        vertical-align: middle;\n",
       "    }\n",
       "\n",
       "    .dataframe tbody tr th {\n",
       "        vertical-align: top;\n",
       "    }\n",
       "\n",
       "    .dataframe thead th {\n",
       "        text-align: right;\n",
       "    }\n",
       "</style>\n",
       "<table border=\"1\" class=\"dataframe\">\n",
       "  <thead>\n",
       "    <tr style=\"text-align: right;\">\n",
       "      <th></th>\n",
       "      <th>request_id</th>\n",
       "      <th>cli</th>\n",
       "      <th>e.fleet_id</th>\n",
       "      <th>taxi</th>\n",
       "      <th>time</th>\n",
       "      <th>dispatch_date</th>\n",
       "      <th>schedule_date</th>\n",
       "      <th>event</th>\n",
       "      <th>taxiFlags</th>\n",
       "      <th>reqFlags</th>\n",
       "      <th>r.operator_id</th>\n",
       "      <th>e.operator_id</th>\n",
       "      <th>taxi_t</th>\n",
       "      <th>operator_id</th>\n",
       "    </tr>\n",
       "  </thead>\n",
       "  <tbody>\n",
       "    <tr>\n",
       "      <th>3</th>\n",
       "      <td>6213339L</td>\n",
       "      <td>917665187</td>\n",
       "      <td>0L</td>\n",
       "      <td>187L</td>\n",
       "      <td>1.577876e+09</td>\n",
       "      <td>1.577876e+09</td>\n",
       "      <td>1.577876e+09</td>\n",
       "      <td>p</td>\n",
       "      <td>0L</td>\n",
       "      <td>11</td>\n",
       "      <td>32</td>\n",
       "      <td>19</td>\n",
       "      <td>20000187</td>\n",
       "      <td>human</td>\n",
       "    </tr>\n",
       "  </tbody>\n",
       "</table>\n",
       "</div>"
      ],
      "text/plain": [
       "  request_id        cli e.fleet_id   taxi          time  dispatch_date  \\\n",
       "3   6213339L  917665187         0L   187L  1.577876e+09   1.577876e+09   \n",
       "\n",
       "   schedule_date event taxiFlags reqFlags r.operator_id e.operator_id  \\\n",
       "3   1.577876e+09     p        0L       11            32            19   \n",
       "\n",
       "     taxi_t operator_id  \n",
       "3  20000187       human  "
      ]
     },
     "execution_count": 67,
     "metadata": {},
     "output_type": "execute_result"
    }
   ],
   "source": [
    "df.head(1)"
   ]
  },
  {
   "cell_type": "code",
   "execution_count": 68,
   "metadata": {},
   "outputs": [
    {
     "data": {
      "text/html": [
       "<div>\n",
       "<style scoped>\n",
       "    .dataframe tbody tr th:only-of-type {\n",
       "        vertical-align: middle;\n",
       "    }\n",
       "\n",
       "    .dataframe tbody tr th {\n",
       "        vertical-align: top;\n",
       "    }\n",
       "\n",
       "    .dataframe thead th {\n",
       "        text-align: right;\n",
       "    }\n",
       "</style>\n",
       "<table border=\"1\" class=\"dataframe\">\n",
       "  <thead>\n",
       "    <tr style=\"text-align: right;\">\n",
       "      <th></th>\n",
       "      <th>Taxi_ID</th>\n",
       "      <th>State</th>\n",
       "      <th>Timestamp</th>\n",
       "      <th>Stand</th>\n",
       "      <th>Src</th>\n",
       "      <th>Dst</th>\n",
       "      <th>Distance</th>\n",
       "      <th>Duration</th>\n",
       "    </tr>\n",
       "  </thead>\n",
       "  <tbody>\n",
       "    <tr>\n",
       "      <th>0</th>\n",
       "      <td>20000012</td>\n",
       "      <td>6</td>\n",
       "      <td>1.577837e+09</td>\n",
       "      <td>0</td>\n",
       "      <td>[-8.60643, 41.144607]</td>\n",
       "      <td>[-8.591688, 41.146677000000004]</td>\n",
       "      <td>2351.740022</td>\n",
       "      <td>298</td>\n",
       "    </tr>\n",
       "  </tbody>\n",
       "</table>\n",
       "</div>"
      ],
      "text/plain": [
       "    Taxi_ID  State     Timestamp  Stand                    Src  \\\n",
       "0  20000012      6  1.577837e+09      0  [-8.60643, 41.144607]   \n",
       "\n",
       "                               Dst     Distance  Duration  \n",
       "0  [-8.591688, 41.146677000000004]  2351.740022       298  "
      ]
     },
     "execution_count": 68,
     "metadata": {},
     "output_type": "execute_result"
    }
   ],
   "source": [
    "df2.head(1)"
   ]
  },
  {
   "cell_type": "code",
   "execution_count": 69,
   "metadata": {
    "colab": {
     "base_uri": "https://localhost:8080/"
    },
    "id": "498yFN1DPIUJ",
    "outputId": "4a278216-8463-4224-92b3-f775c9d8a04d"
   },
   "outputs": [
    {
     "name": "stdout",
     "output_type": "stream",
     "text": [
      "211176 | 99.99% | 00: 06: 43: 0981 | 00: 06: 44: 0006 | Matching: 172675 | Ratio: 81.77% | "
     ]
    }
   ],
   "source": [
    "data = []\n",
    "\n",
    "d_1 = df.sort_values(by=['time']).to_numpy()\n",
    "\n",
    "df_dict = {}\n",
    "for taxi in df2['Taxi_ID']:\n",
    "    if taxi not in df_dict:\n",
    "        df_dict[taxi] = df2[df2['Taxi_ID'] == taxi].sort_values(by=['Timestamp']).to_numpy()\n",
    "\n",
    "for row_1 in PrintInfo(d_1, data):\n",
    "    time = int(row_1[4])\n",
    "    taxi_1 = int(row_1[12])\n",
    "\n",
    "    if taxi_1 in df_dict:\n",
    "        for row_2 in  df_dict[taxi_1]:\n",
    "            timestamp = int(row_2[2])\n",
    "            t = abs(abs(timestamp - time) - int(row_2[7]))\n",
    "            if t < 60 * 1:\n",
    "                # if row_2[8] not in ids:\n",
    "                data.append( list(row_1) + list(row_2) )\n",
    "                # ids.append(row_2[8])\n",
    "                break\n"
   ]
  },
  {
   "cell_type": "markdown",
   "metadata": {},
   "source": [
    "# Export File"
   ]
  },
  {
   "cell_type": "code",
   "execution_count": 70,
   "metadata": {},
   "outputs": [],
   "source": [
    "df3 = pd.DataFrame(data, columns=(list(df.columns) + list(df2.columns)))\n",
    "df3 = df3.sort_values(by=['time'])\n",
    "df3.to_csv('../../csv_s/out.csv',index=False)"
   ]
  },
  {
   "cell_type": "markdown",
   "metadata": {},
   "source": [
    "## Analyze the Error"
   ]
  },
  {
   "cell_type": "code",
   "execution_count": 71,
   "metadata": {
    "id": "5yzRbRPgPZiI"
   },
   "outputs": [
    {
     "data": {
      "text/plain": [
       "<matplotlib.axes._subplots.AxesSubplot at 0x7fadba3349d0>"
      ]
     },
     "execution_count": 71,
     "metadata": {},
     "output_type": "execute_result"
    },
    {
     "data": {
      "image/png": "[encoded data removed]",
      "text/plain": [
       "<Figure size 1080x360 with 1 Axes>"
      ]
     },
     "metadata": {
      "needs_background": "light"
     },
     "output_type": "display_data"
    }
   ],
   "source": [
    "d = {} \n",
    "for i in list(abs(df3['time'] - df3['Timestamp']) - df3['Duration']):\n",
    "    key = int(abs(i))\n",
    "    if key not in d:\n",
    "        d[key] = 0\n",
    "    d[key] += 1\n",
    "\n",
    "df4 = pd.DataFrame(d, index=[1])\n",
    "df4 = df4.sort_index(axis=1)\n",
    "# df4.T.plot.bar(figsize=(15,5))\n",
    "df4.T.tail(len(df4)-2).plot.bar(figsize=(15,5))\n"
   ]
  },
  {
   "cell_type": "code",
   "execution_count": 82,
   "metadata": {},
   "outputs": [
    {
     "name": "stdout",
     "output_type": "stream",
     "text": [
      "+33764266425 64266425\n",
      "+33780774447 80774447\n",
      "+33766693938 66693938\n",
      "+33782377588 82377588\n",
      "+33781363553 81363553\n",
      "+33783956534 83956534\n",
      "+33782254155 82254155\n",
      "+33769381881 69381881\n",
      "+33767584558 67584558\n",
      "+33760231845 60231845\n",
      "+33751153018 51153018\n",
      "+33769703541 69703541\n",
      "+33768122457 68122457\n",
      "+33750282591 50282591\n",
      "+33755010775 55010775\n",
      "+33767438776 67438776\n",
      "+33783539064 83539064\n",
      "+33782670016 82670016\n",
      "+33761006204 61006204\n",
      "+33768411303 68411303\n",
      "+33783735263 83735263\n",
      "+33770973398 70973398\n",
      "+33767407995 67407995\n"
     ]
    }
   ],
   "source": [
    "for cli in df.cli.unique():\n",
    "    if cli[0:4] == '+337' :\n",
    "        print(cli, cli[4:])"
   ]
  },
  {
   "cell_type": "code",
   "execution_count": null,
   "metadata": {},
   "outputs": [],
   "source": []
  },
  {
   "cell_type": "code",
   "execution_count": null,
   "metadata": {},
   "outputs": [],
   "source": []
  }
 ],
 "metadata": {
  "colab": {
   "collapsed_sections": [],
   "name": "Untitled3.ipynb",
   "provenance": []
  },
  "kernelspec": {
   "display_name": "Python 3",
   "language": "python",
   "name": "python3"
  },
  "language_info": {
   "codemirror_mode": {
    "name": "ipython",
    "version": 3
   },
   "file_extension": ".py",
   "mimetype": "text/x-python",
   "name": "python",
   "nbconvert_exporter": "python",
   "pygments_lexer": "ipython3",
   "version": "3.7.4"
  },
  "toc": {
   "base_numbering": 1,
   "nav_menu": {},
   "number_sections": true,
   "sideBar": true,
   "skip_h1_title": false,
   "title_cell": "Table of Contents",
   "title_sidebar": "Contents",
   "toc_cell": false,
   "toc_position": {},
   "toc_section_display": true,
   "toc_window_display": false
  }
 },
 "nbformat": 4,
 "nbformat_minor": 1
}
