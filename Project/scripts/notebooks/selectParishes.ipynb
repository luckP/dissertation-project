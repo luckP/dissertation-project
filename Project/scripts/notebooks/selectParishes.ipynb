{
 "cells": [
  {
   "cell_type": "code",
   "execution_count": 1,
   "metadata": {},
   "outputs": [],
   "source": [
    "import numpy as np\n",
    "import pandas as pd\n",
    "import random as rnd\n",
    "from random import randint\n",
    "import panel as pn\n",
    "import panel.widgets as pnw\n",
    "import matplotlib.pyplot as plt\n",
    "from time import time\n",
    "from numpy.linalg import norm\n",
    "from matplotlib.figure import Figure\n",
    "from matplotlib.backends.backend_agg import FigureCanvas\n",
    "from matplotlib.patches import Polygon as plt_Polygon\n",
    "from matplotlib.collections import PatchCollection\n",
    "\n",
    "import psycopg2\n",
    "import math\n",
    "from matplotlib.animation import FuncAnimation\n",
    "import datetime\n",
    "import csv\n",
    "from postgis import Polygon,MultiPolygon\n",
    "from postgis.psycopg import register\n",
    "\n",
    "from time import time\n",
    "import time\n",
    "import progressbar\n",
    "\n",
    "# \n",
    "from shapely.geometry import Point\n",
    "from shapely.geometry.polygon import Polygon\n",
    "\n",
    "import shapely.geometry as sg\n",
    "import shapely.ops as so"
   ]
  },
  {
   "cell_type": "code",
   "execution_count": 2,
   "metadata": {},
   "outputs": [],
   "source": [
    "data = pd.read_csv('../../csv_s/out.csv')\n",
    "\n",
    "def tranfFunc(x):\n",
    "    y = x[1: -1].split(',')\n",
    "    return [float(y[0]), float(y[1])]\n",
    "\n",
    "src = data['Src'].transform(tranfFunc).to_numpy()\n",
    "dst = data['Dst'].transform(tranfFunc).to_numpy()\n"
   ]
  },
  {
   "cell_type": "code",
   "execution_count": 3,
   "metadata": {},
   "outputs": [
    {
     "name": "stdout",
     "output_type": "stream",
     "text": [
      "<connection object at 0x7fe45a434e10; dsn: 'user=postgres password=xxx dbname=client-project-places host=127.0.0.1 port=9876', closed: 0>\n"
     ]
    }
   ],
   "source": [
    "conn = psycopg2.connect(database=\"client-project-places\", user=\"postgres\", password='', host=\"127.0.0.1\", port=\"9876\")\n",
    "print(conn)"
   ]
  },
  {
   "cell_type": "code",
   "execution_count": 4,
   "metadata": {},
   "outputs": [
    {
     "name": "stderr",
     "output_type": "stream",
     "text": [
      "100% (10 of 10) |########################| Elapsed Time: 0:00:01 Time:  0:00:01\n"
     ]
    }
   ],
   "source": [
    "places_matrix = []\n",
    "\n",
    "register(conn)\n",
    "cursor_psql = conn.cursor()\n",
    "\n",
    "for x in progressbar.progressbar(dst[0:10]):\n",
    "    district = council = parish = '-'\n",
    "    sql=\"\"\"\n",
    "    SELECT distrito, concelho, freguesia \n",
    "        FROM parishes \n",
    "        WHERE ST_Contains(\n",
    "            geom, ST_GeometryFromText(\n",
    "                ST_AsText(\n",
    "                    ST_Transform(\n",
    "                        ST_GeomFromText('POINT( \"\"\"+ str(x[0]) + \"\"\" \"\"\"+ str(x[1]) + \"\"\")',4326),3763\n",
    "                    )\n",
    "                ),3763\n",
    "            )\n",
    "        )\n",
    "    \"\"\"\n",
    "    cursor_psql.execute(sql)\n",
    "    results = cursor_psql.fetchall()\n",
    "\n",
    "    for row in results:\n",
    "        district, council, parish = row[0], row[1], row[2]\n",
    "\n",
    "    places_matrix.append([district, council, parish])\n",
    "                \n",
    "df = pd.DataFrame(places_matrix)"
   ]
  },
  {
   "cell_type": "code",
   "execution_count": 46,
   "metadata": {},
   "outputs": [],
   "source": [
    "# df.to_csv('dst.csv')"
   ]
  },
  {
   "cell_type": "code",
   "execution_count": 5,
   "metadata": {},
   "outputs": [
    {
     "data": {
      "text/html": [
       "<div>\n",
       "<style scoped>\n",
       "    .dataframe tbody tr th:only-of-type {\n",
       "        vertical-align: middle;\n",
       "    }\n",
       "\n",
       "    .dataframe tbody tr th {\n",
       "        vertical-align: top;\n",
       "    }\n",
       "\n",
       "    .dataframe thead th {\n",
       "        text-align: right;\n",
       "    }\n",
       "</style>\n",
       "<table border=\"1\" class=\"dataframe\">\n",
       "  <thead>\n",
       "    <tr style=\"text-align: right;\">\n",
       "      <th></th>\n",
       "      <th>0</th>\n",
       "      <th>1</th>\n",
       "      <th>2</th>\n",
       "    </tr>\n",
       "  </thead>\n",
       "  <tbody>\n",
       "    <tr>\n",
       "      <th>0</th>\n",
       "      <td>PORTO</td>\n",
       "      <td>PORTO</td>\n",
       "      <td>União das freguesias de Lordelo do Ouro e Mass...</td>\n",
       "    </tr>\n",
       "    <tr>\n",
       "      <th>1</th>\n",
       "      <td>PORTO</td>\n",
       "      <td>PORTO</td>\n",
       "      <td>União das freguesias de Lordelo do Ouro e Mass...</td>\n",
       "    </tr>\n",
       "    <tr>\n",
       "      <th>2</th>\n",
       "      <td>PORTO</td>\n",
       "      <td>PORTO</td>\n",
       "      <td>Campanhã</td>\n",
       "    </tr>\n",
       "    <tr>\n",
       "      <th>3</th>\n",
       "      <td>PORTO</td>\n",
       "      <td>PORTO</td>\n",
       "      <td>União das freguesias de Cedofeita, Santo Ildef...</td>\n",
       "    </tr>\n",
       "    <tr>\n",
       "      <th>4</th>\n",
       "      <td>PORTO</td>\n",
       "      <td>PORTO</td>\n",
       "      <td>União das freguesias de Lordelo do Ouro e Mass...</td>\n",
       "    </tr>\n",
       "    <tr>\n",
       "      <th>5</th>\n",
       "      <td>PORTO</td>\n",
       "      <td>MATOSINHOS</td>\n",
       "      <td>União das freguesias de São Mamede de Infesta ...</td>\n",
       "    </tr>\n",
       "    <tr>\n",
       "      <th>6</th>\n",
       "      <td>PORTO</td>\n",
       "      <td>PORTO</td>\n",
       "      <td>Ramalde</td>\n",
       "    </tr>\n",
       "    <tr>\n",
       "      <th>7</th>\n",
       "      <td>PORTO</td>\n",
       "      <td>VILA NOVA DE GAIA</td>\n",
       "      <td>Canidelo</td>\n",
       "    </tr>\n",
       "    <tr>\n",
       "      <th>8</th>\n",
       "      <td>PORTO</td>\n",
       "      <td>PORTO</td>\n",
       "      <td>Paranhos</td>\n",
       "    </tr>\n",
       "    <tr>\n",
       "      <th>9</th>\n",
       "      <td>PORTO</td>\n",
       "      <td>VILA NOVA DE GAIA</td>\n",
       "      <td>Oliveira do Douro</td>\n",
       "    </tr>\n",
       "  </tbody>\n",
       "</table>\n",
       "</div>"
      ],
      "text/plain": [
       "       0                  1                                                  2\n",
       "0  PORTO              PORTO  União das freguesias de Lordelo do Ouro e Mass...\n",
       "1  PORTO              PORTO  União das freguesias de Lordelo do Ouro e Mass...\n",
       "2  PORTO              PORTO                                           Campanhã\n",
       "3  PORTO              PORTO  União das freguesias de Cedofeita, Santo Ildef...\n",
       "4  PORTO              PORTO  União das freguesias de Lordelo do Ouro e Mass...\n",
       "5  PORTO         MATOSINHOS  União das freguesias de São Mamede de Infesta ...\n",
       "6  PORTO              PORTO                                            Ramalde\n",
       "7  PORTO  VILA NOVA DE GAIA                                           Canidelo\n",
       "8  PORTO              PORTO                                           Paranhos\n",
       "9  PORTO  VILA NOVA DE GAIA                                  Oliveira do Douro"
      ]
     },
     "execution_count": 5,
     "metadata": {},
     "output_type": "execute_result"
    }
   ],
   "source": [
    "df"
   ]
  },
  {
   "cell_type": "code",
   "execution_count": null,
   "metadata": {},
   "outputs": [],
   "source": []
  }
 ],
 "metadata": {
  "kernelspec": {
   "display_name": "Python 3",
   "language": "python",
   "name": "python3"
  },
  "language_info": {
   "codemirror_mode": {
    "name": "ipython",
    "version": 3
   },
   "file_extension": ".py",
   "mimetype": "text/x-python",
   "name": "python",
   "nbconvert_exporter": "python",
   "pygments_lexer": "ipython3",
   "version": "3.7.4"
  },
  "toc": {
   "base_numbering": 1,
   "nav_menu": {},
   "number_sections": true,
   "sideBar": true,
   "skip_h1_title": false,
   "title_cell": "Table of Contents",
   "title_sidebar": "Contents",
   "toc_cell": false,
   "toc_position": {},
   "toc_section_display": true,
   "toc_window_display": false
  }
 },
 "nbformat": 4,
 "nbformat_minor": 4
}
